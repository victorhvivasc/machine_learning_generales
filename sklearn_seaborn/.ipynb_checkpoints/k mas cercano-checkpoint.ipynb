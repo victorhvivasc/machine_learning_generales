{
 "cells": [
  {
   "cell_type": "code",
   "execution_count": 1,
   "metadata": {},
   "outputs": [],
   "source": [
    "import pandas as pd\n",
    "import numpy as np\n",
    "import matplotlib.pyplot as plt\n",
    "import seaborn as sns"
   ]
  },
  {
   "cell_type": "code",
   "execution_count": 4,
   "metadata": {},
   "outputs": [
    {
     "data": {
      "text/html": [
       "<div>\n",
       "<style scoped>\n",
       "    .dataframe tbody tr th:only-of-type {\n",
       "        vertical-align: middle;\n",
       "    }\n",
       "\n",
       "    .dataframe tbody tr th {\n",
       "        vertical-align: top;\n",
       "    }\n",
       "\n",
       "    .dataframe thead th {\n",
       "        text-align: right;\n",
       "    }\n",
       "</style>\n",
       "<table border=\"1\" class=\"dataframe\">\n",
       "  <thead>\n",
       "    <tr style=\"text-align: right;\">\n",
       "      <th></th>\n",
       "      <th>compactness</th>\n",
       "      <th>circularity</th>\n",
       "      <th>distance_circularity</th>\n",
       "      <th>radius_ratio</th>\n",
       "      <th>pr_axis_aspect_ratio</th>\n",
       "      <th>max_length_aspect_ratio</th>\n",
       "      <th>scatter_ratio</th>\n",
       "      <th>elongatedness</th>\n",
       "      <th>pr_axis_rectangularity</th>\n",
       "      <th>max_length_rectangularity</th>\n",
       "      <th>scaled_variance_major_axis</th>\n",
       "      <th>scaled_variance_minor_axis</th>\n",
       "      <th>scaled_radius_gyration</th>\n",
       "      <th>skewness_major_axis</th>\n",
       "      <th>skewness_minor_axis</th>\n",
       "      <th>kurtosis_minor_axis</th>\n",
       "      <th>kurtosis_major_axis</th>\n",
       "      <th>hollows_ratio</th>\n",
       "      <th>vehicle_class</th>\n",
       "    </tr>\n",
       "  </thead>\n",
       "  <tbody>\n",
       "    <tr>\n",
       "      <th>0</th>\n",
       "      <td>95.0</td>\n",
       "      <td>48.0</td>\n",
       "      <td>83.0</td>\n",
       "      <td>178.0</td>\n",
       "      <td>72.0</td>\n",
       "      <td>10.0</td>\n",
       "      <td>162.0</td>\n",
       "      <td>42.0</td>\n",
       "      <td>20.0</td>\n",
       "      <td>159.0</td>\n",
       "      <td>176.0</td>\n",
       "      <td>379.0</td>\n",
       "      <td>184.0</td>\n",
       "      <td>70.0</td>\n",
       "      <td>6.0</td>\n",
       "      <td>16.0</td>\n",
       "      <td>187.0</td>\n",
       "      <td>197.0</td>\n",
       "      <td>van</td>\n",
       "    </tr>\n",
       "    <tr>\n",
       "      <th>1</th>\n",
       "      <td>91.0</td>\n",
       "      <td>41.0</td>\n",
       "      <td>84.0</td>\n",
       "      <td>141.0</td>\n",
       "      <td>57.0</td>\n",
       "      <td>9.0</td>\n",
       "      <td>149.0</td>\n",
       "      <td>45.0</td>\n",
       "      <td>19.0</td>\n",
       "      <td>143.0</td>\n",
       "      <td>170.0</td>\n",
       "      <td>330.0</td>\n",
       "      <td>158.0</td>\n",
       "      <td>72.0</td>\n",
       "      <td>9.0</td>\n",
       "      <td>14.0</td>\n",
       "      <td>189.0</td>\n",
       "      <td>199.0</td>\n",
       "      <td>van</td>\n",
       "    </tr>\n",
       "    <tr>\n",
       "      <th>2</th>\n",
       "      <td>104.0</td>\n",
       "      <td>50.0</td>\n",
       "      <td>106.0</td>\n",
       "      <td>209.0</td>\n",
       "      <td>66.0</td>\n",
       "      <td>10.0</td>\n",
       "      <td>207.0</td>\n",
       "      <td>32.0</td>\n",
       "      <td>23.0</td>\n",
       "      <td>158.0</td>\n",
       "      <td>223.0</td>\n",
       "      <td>635.0</td>\n",
       "      <td>220.0</td>\n",
       "      <td>73.0</td>\n",
       "      <td>14.0</td>\n",
       "      <td>9.0</td>\n",
       "      <td>188.0</td>\n",
       "      <td>196.0</td>\n",
       "      <td>saab</td>\n",
       "    </tr>\n",
       "    <tr>\n",
       "      <th>3</th>\n",
       "      <td>93.0</td>\n",
       "      <td>41.0</td>\n",
       "      <td>82.0</td>\n",
       "      <td>159.0</td>\n",
       "      <td>63.0</td>\n",
       "      <td>9.0</td>\n",
       "      <td>144.0</td>\n",
       "      <td>46.0</td>\n",
       "      <td>19.0</td>\n",
       "      <td>143.0</td>\n",
       "      <td>160.0</td>\n",
       "      <td>309.0</td>\n",
       "      <td>127.0</td>\n",
       "      <td>63.0</td>\n",
       "      <td>6.0</td>\n",
       "      <td>10.0</td>\n",
       "      <td>199.0</td>\n",
       "      <td>207.0</td>\n",
       "      <td>van</td>\n",
       "    </tr>\n",
       "    <tr>\n",
       "      <th>4</th>\n",
       "      <td>85.0</td>\n",
       "      <td>44.0</td>\n",
       "      <td>70.0</td>\n",
       "      <td>205.0</td>\n",
       "      <td>103.0</td>\n",
       "      <td>52.0</td>\n",
       "      <td>149.0</td>\n",
       "      <td>45.0</td>\n",
       "      <td>19.0</td>\n",
       "      <td>144.0</td>\n",
       "      <td>241.0</td>\n",
       "      <td>325.0</td>\n",
       "      <td>188.0</td>\n",
       "      <td>127.0</td>\n",
       "      <td>9.0</td>\n",
       "      <td>11.0</td>\n",
       "      <td>180.0</td>\n",
       "      <td>183.0</td>\n",
       "      <td>bus</td>\n",
       "    </tr>\n",
       "  </tbody>\n",
       "</table>\n",
       "</div>"
      ],
      "text/plain": [
       "   compactness  circularity  distance_circularity  radius_ratio  \\\n",
       "0         95.0         48.0                  83.0         178.0   \n",
       "1         91.0         41.0                  84.0         141.0   \n",
       "2        104.0         50.0                 106.0         209.0   \n",
       "3         93.0         41.0                  82.0         159.0   \n",
       "4         85.0         44.0                  70.0         205.0   \n",
       "\n",
       "   pr_axis_aspect_ratio  max_length_aspect_ratio  scatter_ratio  \\\n",
       "0                  72.0                     10.0          162.0   \n",
       "1                  57.0                      9.0          149.0   \n",
       "2                  66.0                     10.0          207.0   \n",
       "3                  63.0                      9.0          144.0   \n",
       "4                 103.0                     52.0          149.0   \n",
       "\n",
       "   elongatedness  pr_axis_rectangularity  max_length_rectangularity  \\\n",
       "0           42.0                    20.0                      159.0   \n",
       "1           45.0                    19.0                      143.0   \n",
       "2           32.0                    23.0                      158.0   \n",
       "3           46.0                    19.0                      143.0   \n",
       "4           45.0                    19.0                      144.0   \n",
       "\n",
       "   scaled_variance_major_axis  scaled_variance_minor_axis  \\\n",
       "0                       176.0                       379.0   \n",
       "1                       170.0                       330.0   \n",
       "2                       223.0                       635.0   \n",
       "3                       160.0                       309.0   \n",
       "4                       241.0                       325.0   \n",
       "\n",
       "   scaled_radius_gyration  skewness_major_axis  skewness_minor_axis  \\\n",
       "0                   184.0                 70.0                  6.0   \n",
       "1                   158.0                 72.0                  9.0   \n",
       "2                   220.0                 73.0                 14.0   \n",
       "3                   127.0                 63.0                  6.0   \n",
       "4                   188.0                127.0                  9.0   \n",
       "\n",
       "   kurtosis_minor_axis  kurtosis_major_axis  hollows_ratio vehicle_class  \n",
       "0                 16.0                187.0          197.0           van  \n",
       "1                 14.0                189.0          199.0           van  \n",
       "2                  9.0                188.0          196.0          saab  \n",
       "3                 10.0                199.0          207.0           van  \n",
       "4                 11.0                180.0          183.0           bus  "
      ]
     },
     "execution_count": 4,
     "metadata": {},
     "output_type": "execute_result"
    }
   ],
   "source": [
    "vehiculos = pd.read_csv('vehiculo.csv')\n",
    "vehiculos[:5]"
   ]
  },
  {
   "cell_type": "code",
   "execution_count": 5,
   "metadata": {},
   "outputs": [
    {
     "data": {
      "text/plain": [
       "array(['van', 'saab', 'bus', 'opel'], dtype=object)"
      ]
     },
     "execution_count": 5,
     "metadata": {},
     "output_type": "execute_result"
    }
   ],
   "source": [
    "vehiculos['vehicle_class'].unique()"
   ]
  },
  {
   "cell_type": "code",
   "execution_count": 6,
   "metadata": {},
   "outputs": [],
   "source": [
    "y = vehiculos['vehicle_class']"
   ]
  },
  {
   "cell_type": "code",
   "execution_count": 8,
   "metadata": {},
   "outputs": [
    {
     "data": {
      "text/plain": [
       "Index(['compactness', 'circularity', 'distance_circularity', 'radius_ratio',\n",
       "       'pr_axis_aspect_ratio', 'max_length_aspect_ratio', 'scatter_ratio',\n",
       "       'elongatedness', 'pr_axis_rectangularity', 'max_length_rectangularity',\n",
       "       'scaled_variance_major_axis', 'scaled_variance_minor_axis',\n",
       "       'scaled_radius_gyration', 'skewness_major_axis', 'skewness_minor_axis',\n",
       "       'kurtosis_minor_axis', 'kurtosis_major_axis', 'hollows_ratio',\n",
       "       'vehicle_class'],\n",
       "      dtype='object')"
      ]
     },
     "execution_count": 8,
     "metadata": {},
     "output_type": "execute_result"
    }
   ],
   "source": [
    "vehiculos.columns"
   ]
  },
  {
   "cell_type": "code",
   "execution_count": 9,
   "metadata": {},
   "outputs": [],
   "source": [
    "X = vehiculos[['compactness', 'circularity', 'distance_circularity', 'radius_ratio',\n",
    "       'pr_axis_aspect_ratio', 'max_length_aspect_ratio', 'scatter_ratio',\n",
    "       'elongatedness', 'pr_axis_rectangularity', 'max_length_rectangularity',\n",
    "       'scaled_variance_major_axis', 'scaled_variance_minor_axis',\n",
    "       'scaled_radius_gyration', 'skewness_major_axis', 'skewness_minor_axis',\n",
    "       'kurtosis_minor_axis', 'kurtosis_major_axis', 'hollows_ratio']]"
   ]
  },
  {
   "cell_type": "code",
   "execution_count": 10,
   "metadata": {},
   "outputs": [
    {
     "data": {
      "text/plain": [
       "0     van\n",
       "1     van\n",
       "2    saab\n",
       "Name: vehicle_class, dtype: object"
      ]
     },
     "execution_count": 10,
     "metadata": {},
     "output_type": "execute_result"
    }
   ],
   "source": [
    "y[:3]"
   ]
  },
  {
   "cell_type": "code",
   "execution_count": 11,
   "metadata": {},
   "outputs": [
    {
     "data": {
      "text/html": [
       "<div>\n",
       "<style scoped>\n",
       "    .dataframe tbody tr th:only-of-type {\n",
       "        vertical-align: middle;\n",
       "    }\n",
       "\n",
       "    .dataframe tbody tr th {\n",
       "        vertical-align: top;\n",
       "    }\n",
       "\n",
       "    .dataframe thead th {\n",
       "        text-align: right;\n",
       "    }\n",
       "</style>\n",
       "<table border=\"1\" class=\"dataframe\">\n",
       "  <thead>\n",
       "    <tr style=\"text-align: right;\">\n",
       "      <th></th>\n",
       "      <th>compactness</th>\n",
       "      <th>circularity</th>\n",
       "      <th>distance_circularity</th>\n",
       "      <th>radius_ratio</th>\n",
       "      <th>pr_axis_aspect_ratio</th>\n",
       "      <th>max_length_aspect_ratio</th>\n",
       "      <th>scatter_ratio</th>\n",
       "      <th>elongatedness</th>\n",
       "      <th>pr_axis_rectangularity</th>\n",
       "      <th>max_length_rectangularity</th>\n",
       "      <th>scaled_variance_major_axis</th>\n",
       "      <th>scaled_variance_minor_axis</th>\n",
       "      <th>scaled_radius_gyration</th>\n",
       "      <th>skewness_major_axis</th>\n",
       "      <th>skewness_minor_axis</th>\n",
       "      <th>kurtosis_minor_axis</th>\n",
       "      <th>kurtosis_major_axis</th>\n",
       "      <th>hollows_ratio</th>\n",
       "    </tr>\n",
       "  </thead>\n",
       "  <tbody>\n",
       "    <tr>\n",
       "      <th>0</th>\n",
       "      <td>95.0</td>\n",
       "      <td>48.0</td>\n",
       "      <td>83.0</td>\n",
       "      <td>178.0</td>\n",
       "      <td>72.0</td>\n",
       "      <td>10.0</td>\n",
       "      <td>162.0</td>\n",
       "      <td>42.0</td>\n",
       "      <td>20.0</td>\n",
       "      <td>159.0</td>\n",
       "      <td>176.0</td>\n",
       "      <td>379.0</td>\n",
       "      <td>184.0</td>\n",
       "      <td>70.0</td>\n",
       "      <td>6.0</td>\n",
       "      <td>16.0</td>\n",
       "      <td>187.0</td>\n",
       "      <td>197.0</td>\n",
       "    </tr>\n",
       "    <tr>\n",
       "      <th>1</th>\n",
       "      <td>91.0</td>\n",
       "      <td>41.0</td>\n",
       "      <td>84.0</td>\n",
       "      <td>141.0</td>\n",
       "      <td>57.0</td>\n",
       "      <td>9.0</td>\n",
       "      <td>149.0</td>\n",
       "      <td>45.0</td>\n",
       "      <td>19.0</td>\n",
       "      <td>143.0</td>\n",
       "      <td>170.0</td>\n",
       "      <td>330.0</td>\n",
       "      <td>158.0</td>\n",
       "      <td>72.0</td>\n",
       "      <td>9.0</td>\n",
       "      <td>14.0</td>\n",
       "      <td>189.0</td>\n",
       "      <td>199.0</td>\n",
       "    </tr>\n",
       "    <tr>\n",
       "      <th>2</th>\n",
       "      <td>104.0</td>\n",
       "      <td>50.0</td>\n",
       "      <td>106.0</td>\n",
       "      <td>209.0</td>\n",
       "      <td>66.0</td>\n",
       "      <td>10.0</td>\n",
       "      <td>207.0</td>\n",
       "      <td>32.0</td>\n",
       "      <td>23.0</td>\n",
       "      <td>158.0</td>\n",
       "      <td>223.0</td>\n",
       "      <td>635.0</td>\n",
       "      <td>220.0</td>\n",
       "      <td>73.0</td>\n",
       "      <td>14.0</td>\n",
       "      <td>9.0</td>\n",
       "      <td>188.0</td>\n",
       "      <td>196.0</td>\n",
       "    </tr>\n",
       "  </tbody>\n",
       "</table>\n",
       "</div>"
      ],
      "text/plain": [
       "   compactness  circularity  distance_circularity  radius_ratio  \\\n",
       "0         95.0         48.0                  83.0         178.0   \n",
       "1         91.0         41.0                  84.0         141.0   \n",
       "2        104.0         50.0                 106.0         209.0   \n",
       "\n",
       "   pr_axis_aspect_ratio  max_length_aspect_ratio  scatter_ratio  \\\n",
       "0                  72.0                     10.0          162.0   \n",
       "1                  57.0                      9.0          149.0   \n",
       "2                  66.0                     10.0          207.0   \n",
       "\n",
       "   elongatedness  pr_axis_rectangularity  max_length_rectangularity  \\\n",
       "0           42.0                    20.0                      159.0   \n",
       "1           45.0                    19.0                      143.0   \n",
       "2           32.0                    23.0                      158.0   \n",
       "\n",
       "   scaled_variance_major_axis  scaled_variance_minor_axis  \\\n",
       "0                       176.0                       379.0   \n",
       "1                       170.0                       330.0   \n",
       "2                       223.0                       635.0   \n",
       "\n",
       "   scaled_radius_gyration  skewness_major_axis  skewness_minor_axis  \\\n",
       "0                   184.0                 70.0                  6.0   \n",
       "1                   158.0                 72.0                  9.0   \n",
       "2                   220.0                 73.0                 14.0   \n",
       "\n",
       "   kurtosis_minor_axis  kurtosis_major_axis  hollows_ratio  \n",
       "0                 16.0                187.0          197.0  \n",
       "1                 14.0                189.0          199.0  \n",
       "2                  9.0                188.0          196.0  "
      ]
     },
     "execution_count": 11,
     "metadata": {},
     "output_type": "execute_result"
    }
   ],
   "source": [
    "X[:3]"
   ]
  },
  {
   "cell_type": "code",
   "execution_count": 12,
   "metadata": {},
   "outputs": [],
   "source": [
    "from sklearn.model_selection import train_test_split as tts"
   ]
  },
  {
   "cell_type": "code",
   "execution_count": 13,
   "metadata": {},
   "outputs": [],
   "source": [
    "X_train, X_test, y_train, y_test = tts(X, y, test_size=0.3, random_state=45)"
   ]
  },
  {
   "cell_type": "code",
   "execution_count": 23,
   "metadata": {},
   "outputs": [],
   "source": [
    "from sklearn.neighbors import KNeighborsClassifier"
   ]
  },
  {
   "cell_type": "code",
   "execution_count": 27,
   "metadata": {},
   "outputs": [],
   "source": [
    "neigh = KNeighborsClassifier(n_neighbors=3)"
   ]
  },
  {
   "cell_type": "code",
   "execution_count": 28,
   "metadata": {},
   "outputs": [
    {
     "data": {
      "text/plain": [
       "KNeighborsClassifier(algorithm='auto', leaf_size=30, metric='minkowski',\n",
       "                     metric_params=None, n_jobs=None, n_neighbors=3, p=2,\n",
       "                     weights='uniform')"
      ]
     },
     "execution_count": 28,
     "metadata": {},
     "output_type": "execute_result"
    }
   ],
   "source": [
    "neigh.fit(X_train, y_train)"
   ]
  },
  {
   "cell_type": "code",
   "execution_count": 29,
   "metadata": {},
   "outputs": [],
   "source": [
    "#KNeighborsClassifier()"
   ]
  },
  {
   "cell_type": "code",
   "execution_count": 30,
   "metadata": {},
   "outputs": [],
   "source": [
    "predicciones = neigh.predict(X_test)"
   ]
  },
  {
   "cell_type": "code",
   "execution_count": 31,
   "metadata": {},
   "outputs": [
    {
     "data": {
      "text/plain": [
       "array(['bus', 'bus', 'opel', 'opel', 'saab', 'van', 'saab', 'saab',\n",
       "       'saab', 'van', 'opel', 'bus', 'opel', 'saab', 'opel', 'van',\n",
       "       'opel', 'saab', 'bus', 'saab', 'bus', 'bus', 'bus', 'bus', 'bus',\n",
       "       'van', 'opel', 'saab', 'bus', 'bus', 'opel', 'van', 'bus', 'saab',\n",
       "       'opel', 'bus', 'opel', 'bus', 'bus', 'van', 'van', 'opel', 'opel',\n",
       "       'bus', 'saab', 'van', 'bus', 'bus', 'van', 'bus', 'bus', 'saab',\n",
       "       'opel', 'van', 'van', 'bus', 'saab', 'bus', 'saab', 'opel', 'van',\n",
       "       'van', 'bus', 'bus', 'opel', 'van', 'bus', 'bus', 'van', 'van',\n",
       "       'van', 'bus', 'opel', 'van', 'opel', 'van', 'saab', 'saab', 'bus',\n",
       "       'bus', 'bus', 'bus', 'saab', 'van', 'bus', 'bus', 'saab', 'saab',\n",
       "       'saab', 'van', 'van', 'van', 'van', 'saab', 'saab', 'saab', 'saab',\n",
       "       'opel', 'saab', 'saab', 'bus', 'bus', 'bus', 'opel', 'van', 'bus',\n",
       "       'bus', 'opel', 'van', 'van', 'van', 'bus', 'opel', 'bus', 'opel',\n",
       "       'opel', 'opel', 'van', 'opel', 'opel', 'bus', 'opel', 'saab',\n",
       "       'van', 'bus', 'saab', 'opel', 'opel', 'opel', 'bus', 'bus', 'bus',\n",
       "       'van', 'saab', 'van', 'opel', 'opel', 'opel', 'opel', 'saab',\n",
       "       'van', 'saab', 'van', 'bus', 'saab', 'bus', 'saab', 'saab', 'bus',\n",
       "       'van', 'van', 'bus', 'bus', 'saab', 'van', 'van', 'van', 'bus',\n",
       "       'opel', 'bus', 'saab', 'saab', 'opel', 'van', 'van', 'opel', 'van',\n",
       "       'van', 'bus', 'van', 'opel', 'opel', 'van', 'van', 'van', 'saab',\n",
       "       'bus', 'van', 'saab', 'bus', 'opel', 'van', 'van', 'bus', 'saab',\n",
       "       'opel', 'opel', 'bus', 'van', 'van', 'opel', 'bus', 'bus', 'opel',\n",
       "       'bus', 'saab', 'bus', 'bus', 'bus', 'bus', 'van', 'van', 'bus',\n",
       "       'bus', 'bus', 'saab', 'bus', 'van', 'van', 'bus', 'bus', 'bus',\n",
       "       'van', 'van', 'van', 'opel', 'van', 'bus', 'saab', 'saab', 'van',\n",
       "       'bus', 'bus', 'opel', 'van', 'bus', 'bus', 'bus', 'bus', 'saab',\n",
       "       'van', 'bus', 'saab', 'bus', 'bus', 'saab', 'saab', 'bus', 'bus',\n",
       "       'van', 'bus', 'bus', 'saab', 'saab', 'saab', 'opel', 'bus', 'van',\n",
       "       'opel', 'opel', 'van', 'opel', 'bus', 'bus'], dtype=object)"
      ]
     },
     "execution_count": 31,
     "metadata": {},
     "output_type": "execute_result"
    }
   ],
   "source": [
    "predicciones"
   ]
  },
  {
   "cell_type": "code",
   "execution_count": 32,
   "metadata": {},
   "outputs": [],
   "source": [
    "import seaborn as sns"
   ]
  },
  {
   "cell_type": "code",
   "execution_count": 37,
   "metadata": {},
   "outputs": [],
   "source": [
    "from sklearn.metrics import classification_report as cr"
   ]
  },
  {
   "cell_type": "code",
   "execution_count": 38,
   "metadata": {},
   "outputs": [
    {
     "name": "stdout",
     "output_type": "stream",
     "text": [
      "              precision    recall  f1-score   support\n",
      "\n",
      "         bus       0.77      0.88      0.82        77\n",
      "        opel       0.58      0.45      0.50        65\n",
      "        saab       0.44      0.39      0.41        57\n",
      "         van       0.82      0.98      0.89        55\n",
      "\n",
      "    accuracy                           0.68       254\n",
      "   macro avg       0.65      0.67      0.66       254\n",
      "weighted avg       0.66      0.68      0.66       254\n",
      "\n"
     ]
    }
   ],
   "source": [
    "print(cr(y_test, predicciones))"
   ]
  },
  {
   "cell_type": "code",
   "execution_count": 39,
   "metadata": {},
   "outputs": [],
   "source": [
    "from sklearn.metrics import confusion_matrix as cm"
   ]
  },
  {
   "cell_type": "code",
   "execution_count": 43,
   "metadata": {},
   "outputs": [
    {
     "name": "stdout",
     "output_type": "stream",
     "text": [
      "[[68  2  5  2]\n",
      " [ 8 29 23  5]\n",
      " [11 19 22  5]\n",
      " [ 1  0  0 54]]\n"
     ]
    }
   ],
   "source": [
    "print(cm(y_test, predicciones))"
   ]
  },
  {
   "cell_type": "code",
   "execution_count": 46,
   "metadata": {},
   "outputs": [],
   "source": [
    "tasa_error = []\n",
    "for i in range(1, 100):\n",
    "    knn = KNeighborsClassifier(n_neighbors=i)\n",
    "    knn.fit(X_train, y_train)\n",
    "    prediccion_i = knn.predict(X_test)\n",
    "    tasa_error.append(np.mean(prediccion_i != y_test))"
   ]
  },
  {
   "cell_type": "code",
   "execution_count": 52,
   "metadata": {},
   "outputs": [
    {
     "data": {
      "text/plain": [
       "[<matplotlib.lines.Line2D at 0x265b973b5c8>]"
      ]
     },
     "execution_count": 52,
     "metadata": {},
     "output_type": "execute_result"
    },
    {
     "data": {
      "image/png": "[encoded data removed]",
      "text/plain": [
       "<Figure size 432x288 with 1 Axes>"
      ]
     },
     "metadata": {
      "needs_background": "light"
     },
     "output_type": "display_data"
    }
   ],
   "source": [
    "plt.plot(range(1, 100), tasa_error, color='green', marker='o', markerfacecolor='red', markersize=5)"
   ]
  },
  {
   "cell_type": "code",
   "execution_count": null,
   "metadata": {},
   "outputs": [],
   "source": []
  }
 ],
 "metadata": {
  "kernelspec": {
   "display_name": "Python 3",
   "language": "python",
   "name": "python3"
  },
  "language_info": {
   "codemirror_mode": {
    "name": "ipython",
    "version": 3
   },
   "file_extension": ".py",
   "mimetype": "text/x-python",
   "name": "python",
   "nbconvert_exporter": "python",
   "pygments_lexer": "ipython3",
   "version": "3.7.6"
  }
 },
 "nbformat": 4,
 "nbformat_minor": 4
}
